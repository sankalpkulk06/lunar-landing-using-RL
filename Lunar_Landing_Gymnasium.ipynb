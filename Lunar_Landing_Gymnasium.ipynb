{
  "cells": [
    {
      "cell_type": "markdown",
      "metadata": {
        "id": "LbZcI9ZXHl3a"
      },
      "source": [
        "# Deep Q-Learning for Lunar Landing"
      ]
    },
    {
      "cell_type": "markdown",
      "metadata": {
        "id": "E8yPRjteXgPb"
      },
      "source": [
        "## Part 0 - Installing the required packages and importing the libraries"
      ]
    },
    {
      "cell_type": "markdown",
      "metadata": {
        "id": "slEm5teGWjWU"
      },
      "source": [
        "### Installing Gymnasium"
      ]
    },
    {
      "cell_type": "code",
      "execution_count": null,
      "metadata": {
        "id": "dbnq3XpoKa_7",
        "colab": {
          "base_uri": "https://localhost:8080/"
        },
        "outputId": "4b983300-b958-4ae9-951d-d7101ffc25dc"
      },
      "outputs": [
        {
          "output_type": "stream",
          "name": "stdout",
          "text": [
            "Collecting gymnasium\n",
            "  Downloading gymnasium-1.0.0-py3-none-any.whl.metadata (9.5 kB)\n",
            "Requirement already satisfied: numpy>=1.21.0 in /usr/local/lib/python3.11/dist-packages (from gymnasium) (1.26.4)\n",
            "Requirement already satisfied: cloudpickle>=1.2.0 in /usr/local/lib/python3.11/dist-packages (from gymnasium) (3.1.1)\n",
            "Requirement already satisfied: typing-extensions>=4.3.0 in /usr/local/lib/python3.11/dist-packages (from gymnasium) (4.12.2)\n",
            "Collecting farama-notifications>=0.0.1 (from gymnasium)\n",
            "  Downloading Farama_Notifications-0.0.4-py3-none-any.whl.metadata (558 bytes)\n",
            "Downloading gymnasium-1.0.0-py3-none-any.whl (958 kB)\n",
            "\u001b[2K   \u001b[90m━━━━━━━━━━━━━━━━━━━━━━━━━━━━━━━━━━━━━━━━\u001b[0m \u001b[32m958.1/958.1 kB\u001b[0m \u001b[31m7.5 MB/s\u001b[0m eta \u001b[36m0:00:00\u001b[0m\n",
            "\u001b[?25hDownloading Farama_Notifications-0.0.4-py3-none-any.whl (2.5 kB)\n",
            "Installing collected packages: farama-notifications, gymnasium\n",
            "Successfully installed farama-notifications-0.0.4 gymnasium-1.0.0\n",
            "Requirement already satisfied: gymnasium[accept-rom-license,atari] in /usr/local/lib/python3.11/dist-packages (1.0.0)\n",
            "\u001b[33mWARNING: gymnasium 1.0.0 does not provide the extra 'accept-rom-license'\u001b[0m\u001b[33m\n",
            "\u001b[0mRequirement already satisfied: numpy>=1.21.0 in /usr/local/lib/python3.11/dist-packages (from gymnasium[accept-rom-license,atari]) (1.26.4)\n",
            "Requirement already satisfied: cloudpickle>=1.2.0 in /usr/local/lib/python3.11/dist-packages (from gymnasium[accept-rom-license,atari]) (3.1.1)\n",
            "Requirement already satisfied: typing-extensions>=4.3.0 in /usr/local/lib/python3.11/dist-packages (from gymnasium[accept-rom-license,atari]) (4.12.2)\n",
            "Requirement already satisfied: farama-notifications>=0.0.1 in /usr/local/lib/python3.11/dist-packages (from gymnasium[accept-rom-license,atari]) (0.0.4)\n",
            "Collecting ale-py>=0.9 (from gymnasium[accept-rom-license,atari])\n",
            "  Downloading ale_py-0.10.1-cp311-cp311-manylinux_2_17_x86_64.manylinux2014_x86_64.whl.metadata (7.6 kB)\n",
            "Downloading ale_py-0.10.1-cp311-cp311-manylinux_2_17_x86_64.manylinux2014_x86_64.whl (2.1 MB)\n",
            "\u001b[2K   \u001b[90m━━━━━━━━━━━━━━━━━━━━━━━━━━━━━━━━━━━━━━━━\u001b[0m \u001b[32m2.1/2.1 MB\u001b[0m \u001b[31m27.0 MB/s\u001b[0m eta \u001b[36m0:00:00\u001b[0m\n",
            "\u001b[?25hInstalling collected packages: ale-py\n",
            "Successfully installed ale-py-0.10.1\n",
            "Reading package lists... Done\n",
            "Building dependency tree... Done\n",
            "Reading state information... Done\n",
            "The following additional packages will be installed:\n",
            "  swig4.0\n",
            "Suggested packages:\n",
            "  swig-doc swig-examples swig4.0-examples swig4.0-doc\n",
            "The following NEW packages will be installed:\n",
            "  swig swig4.0\n",
            "0 upgraded, 2 newly installed, 0 to remove and 49 not upgraded.\n",
            "Need to get 1,116 kB of archives.\n",
            "After this operation, 5,542 kB of additional disk space will be used.\n",
            "Get:1 http://archive.ubuntu.com/ubuntu jammy/universe amd64 swig4.0 amd64 4.0.2-1ubuntu1 [1,110 kB]\n",
            "Get:2 http://archive.ubuntu.com/ubuntu jammy/universe amd64 swig all 4.0.2-1ubuntu1 [5,632 B]\n",
            "Fetched 1,116 kB in 1s (753 kB/s)\n",
            "Selecting previously unselected package swig4.0.\n",
            "(Reading database ... 124788 files and directories currently installed.)\n",
            "Preparing to unpack .../swig4.0_4.0.2-1ubuntu1_amd64.deb ...\n",
            "Unpacking swig4.0 (4.0.2-1ubuntu1) ...\n",
            "Selecting previously unselected package swig.\n",
            "Preparing to unpack .../swig_4.0.2-1ubuntu1_all.deb ...\n",
            "Unpacking swig (4.0.2-1ubuntu1) ...\n",
            "Setting up swig4.0 (4.0.2-1ubuntu1) ...\n",
            "Setting up swig (4.0.2-1ubuntu1) ...\n",
            "Processing triggers for man-db (2.10.2-1) ...\n",
            "Requirement already satisfied: gymnasium[box2d] in /usr/local/lib/python3.11/dist-packages (1.0.0)\n",
            "Requirement already satisfied: numpy>=1.21.0 in /usr/local/lib/python3.11/dist-packages (from gymnasium[box2d]) (1.26.4)\n",
            "Requirement already satisfied: cloudpickle>=1.2.0 in /usr/local/lib/python3.11/dist-packages (from gymnasium[box2d]) (3.1.1)\n",
            "Requirement already satisfied: typing-extensions>=4.3.0 in /usr/local/lib/python3.11/dist-packages (from gymnasium[box2d]) (4.12.2)\n",
            "Requirement already satisfied: farama-notifications>=0.0.1 in /usr/local/lib/python3.11/dist-packages (from gymnasium[box2d]) (0.0.4)\n",
            "Collecting box2d-py==2.3.5 (from gymnasium[box2d])\n",
            "  Downloading box2d-py-2.3.5.tar.gz (374 kB)\n",
            "\u001b[2K     \u001b[90m━━━━━━━━━━━━━━━━━━━━━━━━━━━━━━━━━━━━━━━━\u001b[0m \u001b[32m374.4/374.4 kB\u001b[0m \u001b[31m8.7 MB/s\u001b[0m eta \u001b[36m0:00:00\u001b[0m\n",
            "\u001b[?25h  Preparing metadata (setup.py) ... \u001b[?25l\u001b[?25hdone\n",
            "Requirement already satisfied: pygame>=2.1.3 in /usr/local/lib/python3.11/dist-packages (from gymnasium[box2d]) (2.6.1)\n",
            "Collecting swig==4.* (from gymnasium[box2d])\n",
            "  Downloading swig-4.3.0-py2.py3-none-manylinux_2_5_x86_64.manylinux1_x86_64.whl.metadata (3.5 kB)\n",
            "Downloading swig-4.3.0-py2.py3-none-manylinux_2_5_x86_64.manylinux1_x86_64.whl (1.9 MB)\n",
            "\u001b[2K   \u001b[90m━━━━━━━━━━━━━━━━━━━━━━━━━━━━━━━━━━━━━━━━\u001b[0m \u001b[32m1.9/1.9 MB\u001b[0m \u001b[31m45.3 MB/s\u001b[0m eta \u001b[36m0:00:00\u001b[0m\n",
            "\u001b[?25hBuilding wheels for collected packages: box2d-py\n",
            "  Building wheel for box2d-py (setup.py) ... \u001b[?25l\u001b[?25hdone\n",
            "  Created wheel for box2d-py: filename=box2d_py-2.3.5-cp311-cp311-linux_x86_64.whl size=2351173 sha256=705996acdb168ec73a42f3051a8680c78868ce712ee40387ece6b2b6dc74c16d\n",
            "  Stored in directory: /root/.cache/pip/wheels/ab/f1/0c/d56f4a2bdd12bae0a0693ec33f2f0daadb5eb9753c78fa5308\n",
            "Successfully built box2d-py\n",
            "Installing collected packages: swig, box2d-py\n",
            "Successfully installed box2d-py-2.3.5 swig-4.3.0\n"
          ]
        }
      ],
      "source": [
        "!pip install gymnasium\n",
        "!pip install \"gymnasium[atari, accept-rom-license]\"\n",
        "!apt-get install -y swig\n",
        "!pip install gymnasium[box2d]"
      ]
    },
    {
      "cell_type": "markdown",
      "metadata": {
        "id": "brqiMN3UW9T9"
      },
      "source": [
        "### Importing the libraries"
      ]
    },
    {
      "cell_type": "code",
      "execution_count": null,
      "metadata": {
        "id": "mZaKXP_aMl9O"
      },
      "outputs": [],
      "source": [
        "import os\n",
        "import random\n",
        "import numpy as np\n",
        "import torch\n",
        "import torch.nn as nn\n",
        "import torch.optim as optim\n",
        "import torch.nn.functional as F\n",
        "import torch.autograd as autograd\n",
        "from torch.autograd import Variable\n",
        "from collections import deque, namedtuple"
      ]
    },
    {
      "cell_type": "markdown",
      "metadata": {
        "id": "EzlDKXvkXzGI"
      },
      "source": [
        "## Part 1 - Building the AI"
      ]
    },
    {
      "cell_type": "markdown",
      "metadata": {
        "id": "UtG6Zc83YYy3"
      },
      "source": [
        "### Creating the architecture of the Neural Network"
      ]
    },
    {
      "cell_type": "markdown",
      "source": [
        "https://gymnasium.farama.org/environments/box2d/lunar_lander/"
      ],
      "metadata": {
        "id": "3KXyI_YEDJQx"
      }
    },
    {
      "cell_type": "code",
      "source": [
        "# Brain of your Neural Network\n",
        "class Network(nn.Module):\n",
        "    def __init__(self, state_size, action_size, seed=42):\n",
        "        super(Network, self).__init__()   # inheritance\n",
        "        self.seed = torch.manual_seed(seed)\n",
        "        self.fc1 = nn.Linear(state_size, 64)  # fully connected layer 1\n",
        "        self.fc2 = nn.Linear(64, 64)          # incoming 64, outgoing 64\n",
        "        self.fc3 = nn.Linear(64, action_size) # icoming 64, output 4\n",
        "\n",
        "    def forward(self, state):         # architecture of neural network\n",
        "        x = F.relu(self.fc1(state))   # relu activation function\n",
        "        x = F.relu(self.fc2(x))\n",
        "        return self.fc3(x)"
      ],
      "metadata": {
        "id": "h9oUxasLEJx9"
      },
      "execution_count": null,
      "outputs": []
    },
    {
      "cell_type": "markdown",
      "metadata": {
        "id": "UxVrBnFWZKb1"
      },
      "source": [
        "## Part 2 - Training the AI"
      ]
    },
    {
      "cell_type": "markdown",
      "metadata": {
        "id": "T364fz9qZb2j"
      },
      "source": [
        "### Setting up the environment"
      ]
    },
    {
      "cell_type": "code",
      "source": [
        "import gymnasium as gym\n",
        "env = gym.make('LunarLander-v3')\n",
        "state_shape = env.observation_space.shape\n",
        "state_size = env.observation_space.shape[0]\n",
        "number_actions = env.action_space.n\n",
        "\n",
        "print(\"State shape:\", state_shape)  # vector of size 8\n",
        "print(\"State size:\", state_size)\n",
        "print(\"Number of Actions:\", number_actions)"
      ],
      "metadata": {
        "colab": {
          "base_uri": "https://localhost:8080/"
        },
        "id": "NUWiCFWySXIh",
        "outputId": "a721e42d-3b91-4b28-e345-37d721affeb0"
      },
      "execution_count": null,
      "outputs": [
        {
          "output_type": "stream",
          "name": "stdout",
          "text": [
            "State shape: (8,)\n",
            "State size: 8\n",
            "Number of Actions: 4\n"
          ]
        }
      ]
    },
    {
      "cell_type": "markdown",
      "metadata": {
        "id": "c_dZmOIvZgj-"
      },
      "source": [
        "### Initializing the hyperparameters"
      ]
    },
    {
      "cell_type": "code",
      "source": [
        "learning_rate = 5e-4\n",
        "minibatch_size = 100\n",
        "discount_factor = 0.99  # gamma - close to 1\n",
        "replay_buffer_size = int(1e5)   # memory of the agent (1000000 experiences stored)\n",
        "interpolation_paramerter = 1e-3   # tau (0.001)"
      ],
      "metadata": {
        "id": "bNKnUzj1Oqz8"
      },
      "execution_count": null,
      "outputs": []
    },
    {
      "cell_type": "markdown",
      "metadata": {
        "id": "8hD_Vs-bYnip"
      },
      "source": [
        "### Implementing Experience Replay"
      ]
    },
    {
      "cell_type": "code",
      "source": [
        "class ReplayMemory(object):\n",
        "\n",
        "    def __init__(self, capacity):\n",
        "        self.device = torch.device(\"cuda:0\" if torch.cuda.is_available() else \"cpu\")\n",
        "        self.capacity = capacity\n",
        "        self.memory = []\n",
        "\n",
        "    def push(self, event):\n",
        "        self.memory.append(event)\n",
        "        if len(self.memory) > self.capacity:\n",
        "            del self.memory[0]  # delete oldest event\n",
        "\n",
        "    def sample(self, batch_size):     # randomly select (batch of) experiences from the memory buffer\n",
        "        experiences = random.sample(self.memory, batch_size)\n",
        "        states = torch.from_numpy(np.vstack([e[0] for e in experiences if e is not None])).float().to(self.device)\n",
        "        actions = torch.from_numpy(np.vstack([e[1] for e in experiences if e is not None])).long().to(self.device)\n",
        "        rewards = torch.from_numpy(np.vstack([e[2] for e in experiences if e is not None])).float().to(self.device)\n",
        "        next_states = torch.from_numpy(np.vstack([e[3] for e in experiences if e is not None])).float().to(self.device)\n",
        "        dones = torch.from_numpy(np.vstack([e[4] for e in experiences if e is not None]).astype(np.uint8)).float().to(self.device)  # bool - float\n",
        "        return (states, next_states, actions, rewards, dones)\n",
        "\n"
      ],
      "metadata": {
        "id": "QaEChoj_uRoe"
      },
      "execution_count": null,
      "outputs": []
    },
    {
      "cell_type": "markdown",
      "metadata": {
        "id": "JmEkbFbUY6Jt"
      },
      "source": [
        "### Implementing the DQN class"
      ]
    },
    {
      "cell_type": "code",
      "source": [
        "class Agent():\n",
        "    # Interacts with and learns from the environment.\n",
        "\n",
        "    def __init__(self, state_size, action_size):    # 8, 4\n",
        "        self.device = torch.device(\"cuda:0\" if torch.cuda.is_available() else \"cpu\")\n",
        "        self.state_size = state_size\n",
        "        self.action_size = action_size\n",
        "        self.local_qnetwork = Network(state_size, action_size).to(self.device)\n",
        "        self.target_qnetwork = Network(state_size, action_size).to(self.device)\n",
        "        self.optimizer = optim.Adam(self.local_qnetwork.parameters(), lr=learning_rate)\n",
        "        self.memory = ReplayMemory(replay_buffer_size)\n",
        "        self.t_step = 0 # time step, counter\n",
        "\n",
        "    def step(self, state, action, reward, next_state, done):\n",
        "        self.memory.push((state, action, reward, next_state, done)) # stores exp and when to learn from it\n",
        "        self.t_step = (self.t_step + 1) % 4   # learn every 4 steps\n",
        "\n",
        "        # learning\n",
        "        if self.t_step == 0:\n",
        "            if len(self.memory.memory) > minibatch_size:\n",
        "                experiences = self.memory.sample(minibatch_size)\n",
        "                self.learn(experiences, discount_factor)\n",
        "\n",
        "    def act(self, state, eps=0.):\n",
        "        state = torch.from_numpy(state).float().unsqueeze(0).to(self.device).to(self.device)    # unsqueeze(0), first dimension of our state vector\n",
        "        self.local_qnetwork.eval()  # evaluate mode\n",
        "\n",
        "        # prediction\n",
        "        with torch.no_grad():\n",
        "            action_values = self.local_qnetwork(state)\n",
        "        self.local_qnetwork.train()  # train mode\n",
        "\n",
        "        # eps greedy action policy - exploration\n",
        "        if random.random() > eps:\n",
        "            return np.argmax(action_values.cpu().data.numpy())\n",
        "        else:\n",
        "            return random.choice(np.arange(self.action_size))\n",
        "\n",
        "    def learn(self, experiences, gamma):  # gamma - discount factor\n",
        "        states, next_states, actions, rewards, dones = experiences\n",
        "\n",
        "        # propagate to next target state\n",
        "        next_q_targets = self.target_qnetwork(next_states).detach().max(1)[0].unsqueeze(1)\n",
        "        q_targets = rewards + (gamma * next_q_targets * (1 - dones))  # equation\n",
        "\n",
        "        q_expected = self.local_qnetwork(states).gather(1, actions)\n",
        "        loss = F.mse_loss(q_expected, q_targets)\n",
        "        self.optimizer.zero_grad()\n",
        "        loss.backward() # back propagate the loss\n",
        "        self.optimizer.step() # to update the params, next step\n",
        "\n",
        "        self.soft_update(self.local_qnetwork, self.target_qnetwork, interpolation_paramerter)\n",
        "\n",
        "    def soft_update(self, local_model, target_model, interpolation_paramerter):\n",
        "\n",
        "        for target_param, local_param in zip(target_model.parameters(), local_model.parameters()):\n",
        "            # updates self, instead of x = x()\n",
        "            target_param.data.copy_(interpolation_paramerter*local_param.data + (1.0-interpolation_paramerter)*target_param.data) # equation\n",
        "\n"
      ],
      "metadata": {
        "id": "iokmjTKJ9E3U"
      },
      "execution_count": null,
      "outputs": []
    },
    {
      "cell_type": "markdown",
      "metadata": {
        "id": "o1tZElccZmf6"
      },
      "source": [
        "### Initializing the DQN agent"
      ]
    },
    {
      "cell_type": "code",
      "source": [
        "agent = Agent(state_size, number_actions)"
      ],
      "metadata": {
        "id": "cGbpJJvLjmIw"
      },
      "execution_count": null,
      "outputs": []
    },
    {
      "cell_type": "markdown",
      "metadata": {
        "id": "E8v0PtUfaVQp"
      },
      "source": [
        "### Training the DQN agent"
      ]
    },
    {
      "cell_type": "code",
      "source": [
        "# Training parameters\n",
        "number_episodes = 2000\n",
        "maximum_number_timesteps_per_episode = 1000\n",
        "epsilon_starting_value = 1.0  # decay\n",
        "epsilon_ending_value = 0.01\n",
        "epsilon_decay_rate = 0.995\n",
        "\n",
        "epsilon = epsilon_starting_value\n",
        "scores_on_100_episodes = deque(maxlen=100) # doubl endend queue\n",
        "\n",
        "for episode in range(1, number_episodes + 1):\n",
        "    state, _ = env.reset() # every step reset the env\n",
        "    score = 0\n",
        "\n",
        "    for time_step in range(maximum_number_timesteps_per_episode):\n",
        "        action = agent.act(state, epsilon)  # agent make a move\n",
        "        next_state, reward, done, _, _ = env.step(action)\n",
        "\n",
        "        agent.step(state, action, reward, next_state, done) # learning\n",
        "        state = next_state\n",
        "        score += reward\n",
        "\n",
        "        if done:  # if episode is done, break and go to next episode\n",
        "            break\n",
        "\n",
        "    scores_on_100_episodes.append(score)\n",
        "    epsilon = max(epsilon_ending_value, epsilon_decay_rate * epsilon)\n",
        "\n",
        "    print('\\rEpisode {}\\tAverage Score: {:.2f}'.format(episode, np.mean(scores_on_100_episodes)), end=\"\")\n",
        "\n",
        "    if episode % 100 == 0:\n",
        "        print('\\rEpisode {}\\tAverage Score: {:.2f}'.format(episode, np.mean(scores_on_100_episodes)))\n",
        "\n",
        "\n",
        "    if np.mean(scores_on_100_episodes) >= 200.0:\n",
        "        print('\\nEnvironment solved in {:d} episodes!\\tAverage Score: {:.2f}'.format(episode, np.mean(scores_on_100_episodes)))\n",
        "        torch.save(agent.local_qnetwork.state_dict(), 'checkpoint.pth')\n",
        "        break\n"
      ],
      "metadata": {
        "colab": {
          "base_uri": "https://localhost:8080/"
        },
        "id": "2ybZW6Im-Bwj",
        "outputId": "58dd2c4b-7302-4927-feaf-59650335e40b"
      },
      "execution_count": null,
      "outputs": [
        {
          "output_type": "stream",
          "name": "stdout",
          "text": [
            "Episode 100\tAverage Score: -152.03\n",
            "Episode 200\tAverage Score: -85.11\n",
            "Episode 300\tAverage Score: -32.14\n",
            "Episode 400\tAverage Score: 20.22\n",
            "Episode 500\tAverage Score: 162.90\n",
            "Episode 600\tAverage Score: 196.31\n",
            "Episode 611\tAverage Score: 200.10\n",
            "Environment solved in 611 episodes!\tAverage Score: 200.10\n"
          ]
        }
      ]
    },
    {
      "cell_type": "markdown",
      "metadata": {
        "id": "O8CNwdOTcCoP"
      },
      "source": [
        "## Part 3 - Visualizing the results"
      ]
    },
    {
      "cell_type": "code",
      "execution_count": null,
      "metadata": {
        "id": "cb9nVvU2Okhk",
        "colab": {
          "base_uri": "https://localhost:8080/",
          "height": 459
        },
        "outputId": "3fb76926-cede-4a3f-d703-0262d14fc166"
      },
      "outputs": [
        {
          "output_type": "stream",
          "name": "stderr",
          "text": [
            "WARNING:imageio_ffmpeg:IMAGEIO FFMPEG_WRITER WARNING: input image is not divisible by macro_block_size=16, resizing from (600, 400) to (608, 400) to ensure video compatibility with most codecs and players. To prevent resizing, make your input image divisible by the macro_block_size or set the macro_block_size to 1 (risking incompatibility).\n"
          ]
        },
        {
          "output_type": "display_data",
          "data": {
            "text/plain": [
              "<IPython.core.display.HTML object>"
            ],
            "text/html": [
              "<video alt=\"test\" autoplay\n",
              "                loop controls style=\"height: 400px;\">\n",
              "                <source src=\"data:video/mp4;base64,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\" type=\"video/mp4\" />\n",
              "             </video>"
            ]
          },
          "metadata": {}
        }
      ],
      "source": [
        "import glob\n",
        "import io\n",
        "import base64\n",
        "import imageio\n",
        "from IPython.display import HTML, display\n",
        "from gym.wrappers.monitoring.video_recorder import VideoRecorder\n",
        "\n",
        "def show_video_of_model(agent, env_name):\n",
        "    env = gym.make(env_name, render_mode='rgb_array')\n",
        "    state, _ = env.reset()\n",
        "    done = False\n",
        "    frames = []\n",
        "    while not done:\n",
        "        frame = env.render()\n",
        "        frames.append(frame)\n",
        "        action = agent.act(state)\n",
        "        state, reward, done, _, _ = env.step(action.item())\n",
        "    env.close()\n",
        "    imageio.mimsave('video.mp4', frames, fps=30)\n",
        "\n",
        "show_video_of_model(agent, 'LunarLander-v3')\n",
        "\n",
        "def show_video():\n",
        "    mp4list = glob.glob('*.mp4')\n",
        "    if len(mp4list) > 0:\n",
        "        mp4 = mp4list[0]\n",
        "        video = io.open(mp4, 'r+b').read()\n",
        "        encoded = base64.b64encode(video)\n",
        "        display(HTML(data='''<video alt=\"test\" autoplay\n",
        "                loop controls style=\"height: 400px;\">\n",
        "                <source src=\"data:video/mp4;base64,{0}\" type=\"video/mp4\" />\n",
        "             </video>'''.format(encoded.decode('ascii'))))\n",
        "    else:\n",
        "        print(\"Could not find video\")\n",
        "\n",
        "show_video()"
      ]
    },
    {
      "cell_type": "code",
      "source": [],
      "metadata": {
        "id": "mN9S5AqFRk4v"
      },
      "execution_count": null,
      "outputs": []
    }
  ],
  "metadata": {
    "colab": {
      "provenance": []
    },
    "kernelspec": {
      "display_name": "Python 3",
      "name": "python3"
    },
    "language_info": {
      "name": "python"
    }
  },
  "nbformat": 4,
  "nbformat_minor": 0
}